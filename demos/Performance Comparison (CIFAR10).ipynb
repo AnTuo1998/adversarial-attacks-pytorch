{
 "cells": [
  {
   "cell_type": "markdown",
   "metadata": {},
   "source": [
    "# Demo - Performance Comparison (CIFAR10)"
   ]
  },
  {
   "cell_type": "markdown",
   "metadata": {},
   "source": [
    "## 1. Load CIAFR10"
   ]
  },
  {
   "cell_type": "code",
   "execution_count": 1,
   "metadata": {},
   "outputs": [
    {
     "name": "stdout",
     "output_type": "stream",
     "text": [
      "Files already downloaded and verified\n"
     ]
    }
   ],
   "source": [
    "# https://github.com/RobustBench/robustbench\n",
    "from robustbench.data import load_cifar10\n",
    "from robustbench.utils import load_model, clean_accuracy\n",
    "\n",
    "x_test, y_test = load_cifar10(n_examples=50)"
   ]
  },
  {
   "cell_type": "markdown",
   "metadata": {},
   "source": [
    "## 2. Standard Accuracy"
   ]
  },
  {
   "cell_type": "code",
   "execution_count": 2,
   "metadata": {},
   "outputs": [
    {
     "name": "stdout",
     "output_type": "stream",
     "text": [
      "Model: Wong2020Fast\n",
      "- Standard Acc: 0.92\n",
      "Model: Rice2020Overfitting\n",
      "- Standard Acc: 0.86\n",
      "Model: Carmon2019Unlabeled\n",
      "- Standard Acc: 0.92\n"
     ]
    }
   ],
   "source": [
    "model_list = ['Wong2020Fast', 'Rice2020Overfitting', 'Carmon2019Unlabeled']\n",
    "for model_name in model_list:\n",
    "    model = load_model(model_name, norm='Linf').cuda()\n",
    "    acc = clean_accuracy(model, x_test.cuda(), y_test.cuda())\n",
    "    print('Model: {}'.format(model_name))\n",
    "    print('- Standard Acc: {}'.format(acc))"
   ]
  },
  {
   "cell_type": "markdown",
   "metadata": {},
   "source": [
    "## 3. Torchattacks, Foolbox and ART"
   ]
  },
  {
   "cell_type": "code",
   "execution_count": 3,
   "metadata": {},
   "outputs": [
    {
     "name": "stdout",
     "output_type": "stream",
     "text": [
      "torchattacks 2.12.1\n",
      "foolbox 3.0.0\n",
      "art 1.2.0\n"
     ]
    }
   ],
   "source": [
    "import datetime\n",
    "import numpy as np\n",
    "\n",
    "import torch\n",
    "import torch.nn as nn\n",
    "import torch.optim as optim\n",
    "\n",
    "# https://github.com/Harry24k/adversarial-attacks-pytorch\n",
    "import torchattacks\n",
    "print(\"torchattacks %s\"%(torchattacks.__version__))\n",
    "\n",
    "# https://github.com/bethgelab/foolbox\n",
    "import foolbox as fb\n",
    "print(\"foolbox %s\"%(fb.__version__))\n",
    "\n",
    "# https://github.com/IBM/adversarial-robustness-toolbox\n",
    "import art\n",
    "import art.attacks.evasion as evasion\n",
    "from art.classifiers import PyTorchClassifier\n",
    "print(\"art %s\"%(art.__version__))"
   ]
  },
  {
   "cell_type": "markdown",
   "metadata": {},
   "source": [
    "## 3.1. Linf"
   ]
  },
  {
   "cell_type": "markdown",
   "metadata": {},
   "source": [
    "### FGSM"
   ]
  },
  {
   "cell_type": "code",
   "execution_count": 4,
   "metadata": {},
   "outputs": [
    {
     "name": "stdout",
     "output_type": "stream",
     "text": [
      "Model: Wong2020Fast\n",
      "- Torchattacks\n",
      "- Robust Acc: 0.48 (31 ms)\n",
      "- Foolbox\n",
      "- Robust Acc: 0.48 (24 ms)\n",
      "- ART\n",
      "- Robust Acc: 0.48 (71 ms)\n",
      "\n",
      "Model: Rice2020Overfitting\n",
      "- Torchattacks\n",
      "- Robust Acc: 0.62 (87 ms)\n",
      "- Foolbox\n",
      "- Robust Acc: 0.62 (55 ms)\n",
      "- ART\n",
      "- Robust Acc: 0.62 (728 ms)\n",
      "\n",
      "Model: Carmon2019Unlabeled\n",
      "- Torchattacks\n",
      "- Robust Acc: 0.68 (23 ms)\n",
      "- Foolbox\n",
      "- Robust Acc: 0.68 (33 ms)\n",
      "- ART\n",
      "- Robust Acc: 0.68 (217 ms)\n",
      "\n"
     ]
    }
   ],
   "source": [
    "for model_name in model_list:\n",
    "    print('Model: {}'.format(model_name))\n",
    "    model = load_model(model_name, norm='Linf').cuda()\n",
    "    \n",
    "    print(\"- Torchattacks\")\n",
    "    atk = torchattacks.FGSM(model, eps=8/255)\n",
    "    start = datetime.datetime.now()\n",
    "    adv_test = atk(x_test, y_test)\n",
    "    end = datetime.datetime.now()\n",
    "    acc = clean_accuracy(model, adv_test, y_test)\n",
    "    print('- Robust Acc: {} ({} ms)'.format(acc, int((end-start).total_seconds()*1000)))\n",
    "    \n",
    "    print(\"- Foolbox\")\n",
    "    fmodel = fb.PyTorchModel(model, bounds=(0, 1))\n",
    "    atk = fb.attacks.LinfFastGradientAttack(random_start=False)\n",
    "    start = datetime.datetime.now()\n",
    "    _, adv_test, _ = atk(fmodel, x_test.to('cuda:0'), y_test.to('cuda:0'), epsilons=8/255)\n",
    "    end = datetime.datetime.now()\n",
    "    acc = clean_accuracy(model, adv_test, y_test)\n",
    "    print('- Robust Acc: {} ({} ms)'.format(acc, int((end-start).total_seconds()*1000)))\n",
    "    \n",
    "    print(\"- ART\")\n",
    "    classifier = PyTorchClassifier(model=model, clip_values=(0, 1),\n",
    "                                   loss=nn.CrossEntropyLoss(),\n",
    "                                   optimizer=optim.Adam(model.parameters(), lr=0.01),\n",
    "                                   input_shape=(3, 32, 32), nb_classes=10)\n",
    "    atk = evasion.FastGradientMethod(norm=np.inf, batch_size=50,\n",
    "                                     classifier=classifier, eps=8/255)\n",
    "    start = datetime.datetime.now()\n",
    "    advs = atk.generate(x_test, y_test)\n",
    "    end = datetime.datetime.now()\n",
    "    acc = clean_accuracy(model, adv_test, y_test)\n",
    "    print('- Robust Acc: {} ({} ms)'.format(acc, int((end-start).total_seconds()*1000)))\n",
    "    \n",
    "    print()"
   ]
  },
  {
   "cell_type": "markdown",
   "metadata": {},
   "source": [
    "### BIM"
   ]
  },
  {
   "cell_type": "code",
   "execution_count": 5,
   "metadata": {},
   "outputs": [
    {
     "name": "stdout",
     "output_type": "stream",
     "text": [
      "Model: Wong2020Fast\n",
      "- Torchattacks\n",
      "- Robust Acc: 0.46 (63 ms)\n",
      "- Foolbox\n",
      "- Robust Acc: 0.46 (73 ms)\n",
      "- ART\n",
      "- Robust Acc: 0.46 (249 ms)\n",
      "\n",
      "Model: Rice2020Overfitting\n",
      "- Torchattacks\n",
      "- Robust Acc: 0.58 (648 ms)\n",
      "- Foolbox\n",
      "- Robust Acc: 0.58 (1152 ms)\n",
      "- ART\n",
      "- Robust Acc: 0.58 (2486 ms)\n",
      "\n",
      "Model: Carmon2019Unlabeled\n",
      "- Torchattacks\n",
      "- Robust Acc: 0.64 (127 ms)\n",
      "- Foolbox\n",
      "- Robust Acc: 0.64 (263 ms)\n",
      "- ART\n",
      "- Robust Acc: 0.64 (746 ms)\n",
      "\n"
     ]
    }
   ],
   "source": [
    "for model_name in model_list:\n",
    "    print('Model: {}'.format(model_name))\n",
    "    model = load_model(model_name, norm='Linf').cuda()\n",
    "    \n",
    "    print(\"- Torchattacks\")\n",
    "    atk = torchattacks.BIM(model, eps=8/255, alpha=2/255, steps=5)\n",
    "    start = datetime.datetime.now()\n",
    "    adv_test = atk(x_test, y_test)\n",
    "    end = datetime.datetime.now()\n",
    "    acc = clean_accuracy(model, adv_test, y_test)\n",
    "    print('- Robust Acc: {} ({} ms)'.format(acc, int((end-start).total_seconds()*1000)))\n",
    "    \n",
    "    print(\"- Foolbox\")\n",
    "    fmodel = fb.PyTorchModel(model, bounds=(0, 1))\n",
    "    atk = fb.attacks.LinfBasicIterativeAttack(abs_stepsize=2/255, steps=5, random_start=False)\n",
    "    start = datetime.datetime.now()\n",
    "    _, adv_test, _ = atk(fmodel, x_test.to('cuda'), y_test.to('cuda'), epsilons=8/255)\n",
    "    end = datetime.datetime.now()\n",
    "    acc = clean_accuracy(model, adv_test, y_test)\n",
    "    print('- Robust Acc: {} ({} ms)'.format(acc, int((end-start).total_seconds()*1000)))\n",
    "    \n",
    "    print(\"- ART\")\n",
    "    classifier = PyTorchClassifier(model=model, clip_values=(0, 1),\n",
    "                                   loss=nn.CrossEntropyLoss(),\n",
    "                                   optimizer=optim.Adam(model.parameters(), lr=0.01),\n",
    "                                   input_shape=(3, 32, 32), nb_classes=10)\n",
    "    atk = evasion.BasicIterativeMethod(batch_size=50,\n",
    "                                       classifier=classifier, eps=8/255,\n",
    "                                       eps_step=2/255, max_iter=5)\n",
    "    start = datetime.datetime.now()\n",
    "    advs = atk.generate(x_test, y_test)\n",
    "    end = datetime.datetime.now()\n",
    "    acc = clean_accuracy(model, adv_test, y_test)\n",
    "    print('- Robust Acc: {} ({} ms)'.format(acc, int((end-start).total_seconds()*1000)))\n",
    "    \n",
    "    print()"
   ]
  },
  {
   "cell_type": "markdown",
   "metadata": {},
   "source": [
    "### PGD"
   ]
  },
  {
   "cell_type": "code",
   "execution_count": 6,
   "metadata": {},
   "outputs": [
    {
     "name": "stdout",
     "output_type": "stream",
     "text": [
      "Model: Wong2020Fast\n",
      "- Torchattacks\n",
      "- Robust Acc: 0.46 (55 ms)\n",
      "- Foolbox\n",
      "- Robust Acc: 0.46 (71 ms)\n",
      "- ART\n",
      "- Robust Acc: 0.46 (239 ms)\n",
      "\n",
      "Model: Rice2020Overfitting\n",
      "- Torchattacks\n",
      "- Robust Acc: 0.58 (583 ms)\n",
      "- Foolbox\n",
      "- Robust Acc: 0.58 (1143 ms)\n",
      "- ART\n",
      "- Robust Acc: 0.58 (2485 ms)\n",
      "\n",
      "Model: Carmon2019Unlabeled\n",
      "- Torchattacks\n",
      "- Robust Acc: 0.64 (87 ms)\n",
      "- Foolbox\n",
      "- Robust Acc: 0.64 (255 ms)\n",
      "- ART\n",
      "- Robust Acc: 0.64 (745 ms)\n",
      "\n"
     ]
    }
   ],
   "source": [
    "for model_name in model_list:\n",
    "    print('Model: {}'.format(model_name))\n",
    "    model = load_model(model_name, norm='Linf').cuda()\n",
    "    \n",
    "    print(\"- Torchattacks\")\n",
    "    atk = torchattacks.PGD(model, eps=8/255, alpha=2/255, steps=5, random_start=False)\n",
    "    start = datetime.datetime.now()\n",
    "    adv_test = atk(x_test, y_test)\n",
    "    end = datetime.datetime.now()\n",
    "    acc = clean_accuracy(model, adv_test, y_test)\n",
    "    print('- Robust Acc: {} ({} ms)'.format(acc, int((end-start).total_seconds()*1000)))\n",
    "    \n",
    "    print(\"- Foolbox\")\n",
    "    fmodel = fb.PyTorchModel(model, bounds=(0, 1))\n",
    "    atk = fb.attacks.LinfPGD(abs_stepsize=2/255, steps=5, random_start=False)\n",
    "    start = datetime.datetime.now()\n",
    "    _, adv_test, _ = atk(fmodel, x_test.to('cuda'), y_test.to('cuda'), epsilons=8/255)\n",
    "    end = datetime.datetime.now()\n",
    "    acc = clean_accuracy(model, adv_test, y_test)\n",
    "    print('- Robust Acc: {} ({} ms)'.format(acc, int((end-start).total_seconds()*1000)))\n",
    "    \n",
    "    print(\"- ART\")\n",
    "    classifier = PyTorchClassifier(model=model, clip_values=(0, 1),\n",
    "                                   loss=nn.CrossEntropyLoss(),\n",
    "                                   optimizer=optim.Adam(model.parameters(), lr=0.01),\n",
    "                                   input_shape=(3, 32, 32), nb_classes=10)\n",
    "    atk = evasion.ProjectedGradientDescent(batch_size=50, num_random_init=0,\n",
    "                                           classifier=classifier, eps=8/255,\n",
    "                                           eps_step=2/255, max_iter=5)\n",
    "    start = datetime.datetime.now()\n",
    "    advs = atk.generate(x_test, y_test)\n",
    "    end = datetime.datetime.now()\n",
    "    print('- Robust Acc: {} ({} ms)'.format(acc, int((end-start).total_seconds()*1000)))\n",
    "    \n",
    "    print()"
   ]
  },
  {
   "cell_type": "markdown",
   "metadata": {},
   "source": [
    "## 3.2. L2"
   ]
  },
  {
   "cell_type": "markdown",
   "metadata": {},
   "source": [
    "### CW"
   ]
  },
  {
   "cell_type": "code",
   "execution_count": 7,
   "metadata": {},
   "outputs": [
    {
     "name": "stdout",
     "output_type": "stream",
     "text": [
      "Model: Wong2020Fast\n",
      "- Torchattacks\n",
      "- Robust Acc: 0.14 / L2: 0.00016 (4367 ms)\n",
      "- Foolbox\n",
      "- Robust Acc: 0.32 / L2: 0.00016 (4530 ms)\n",
      "- ART\n",
      "- Robust Acc: 0.32 / L2: 0.00016 (71613 ms)\n",
      "\n",
      "Model: Rice2020Overfitting\n",
      "- Torchattacks\n",
      "- Robust Acc: 0.22 / L2: 0.00013 (43680 ms)\n",
      "- Foolbox\n",
      "- Robust Acc: 0.34 / L2: 0.00017 (45273 ms)\n",
      "- ART\n",
      "- Robust Acc: 0.34 / L2: 0.00017 (691977 ms)\n",
      "\n",
      "Model: Carmon2019Unlabeled\n",
      "- Torchattacks\n",
      "- Robust Acc: 0.26 / L2: 8.5e-05 (13032 ms)\n",
      "- Foolbox\n",
      "- Robust Acc: 0.32 / L2: 0.00016 (13314 ms)\n",
      "- ART\n",
      "- Robust Acc: 0.32 / L2: 0.00016 (206250 ms)\n",
      "\n"
     ]
    }
   ],
   "source": [
    "for model_name in model_list:\n",
    "    print('Model: {}'.format(model_name))\n",
    "    model = load_model(model_name, norm='Linf').cuda()\n",
    "    \n",
    "    print(\"- Torchattacks\")\n",
    "    atk = torchattacks.CW(model, c=1, kappa=0, steps=100, lr=0.01)\n",
    "    start = datetime.datetime.now()\n",
    "    adv_test = atk(x_test, y_test)\n",
    "    end = datetime.datetime.now()\n",
    "    acc = clean_accuracy(model, adv_test, y_test)\n",
    "    print('- Robust Acc: {} / L2: {:1.2} ({} ms)'.format(acc,nn.MSELoss()(x_test.cuda(), adv_test),\n",
    "                                                         int((end-start).total_seconds()*1000)))\n",
    "    \n",
    "    print(\"- Foolbox\")\n",
    "    fmodel = fb.PyTorchModel(model, bounds=(0, 1))\n",
    "    atk = fb.attacks.L2CarliniWagnerAttack(binary_search_steps=1, initial_const=1,\n",
    "                                           confidence=0, steps=100, stepsize=0.01)\n",
    "    start = datetime.datetime.now()\n",
    "    _, adv_test, _ = atk(fmodel, x_test.to('cuda'), y_test.to('cuda'), epsilons=1)\n",
    "    end = datetime.datetime.now()\n",
    "    acc = clean_accuracy(model, adv_test, y_test)\n",
    "    print('- Robust Acc: {} / L2: {:1.2} ({} ms)'.format(acc,nn.MSELoss()(x_test.cuda(), adv_test),\n",
    "                                                         int((end-start).total_seconds()*1000)))\n",
    "    \n",
    "    print(\"- ART\")\n",
    "    classifier = PyTorchClassifier(model=model, clip_values=(0, 1),\n",
    "                                   loss=nn.CrossEntropyLoss(),\n",
    "                                   optimizer=optim.Adam(model.parameters(), lr=0.01),\n",
    "                                   input_shape=(3, 32, 32), nb_classes=10)\n",
    "    atk = evasion.CarliniL2Method(batch_size=50, classifier=classifier, \n",
    "                                  binary_search_steps=1, initial_const=1,\n",
    "                                  confidence=0, max_iter=100,\n",
    "                                  learning_rate=0.01)\n",
    "    start = datetime.datetime.now()\n",
    "    advs = atk.generate(x_test, y_test)\n",
    "    end = datetime.datetime.now()\n",
    "    print('- Robust Acc: {} / L2: {:1.2} ({} ms)'.format(acc,nn.MSELoss()(x_test.cuda(), adv_test),\n",
    "                                                         int((end-start).total_seconds()*1000)))\n",
    "    \n",
    "    print()"
   ]
  }
 ],
 "metadata": {
  "kernelspec": {
   "display_name": "Python 3",
   "language": "python",
   "name": "python3"
  },
  "language_info": {
   "codemirror_mode": {
    "name": "ipython",
    "version": 3
   },
   "file_extension": ".py",
   "mimetype": "text/x-python",
   "name": "python",
   "nbconvert_exporter": "python",
   "pygments_lexer": "ipython3",
   "version": "3.6.5"
  }
 },
 "nbformat": 4,
 "nbformat_minor": 2
}
